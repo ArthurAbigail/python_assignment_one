{
 "cells": [
  {
   "cell_type": "code",
   "execution_count": 6,
   "id": "5c019c23-34bc-41ec-8688-c26496bc6643",
   "metadata": {},
   "outputs": [
    {
     "name": "stdin",
     "output_type": "stream",
     "text": [
      "enter number 1\n",
      "enter number 2\n"
     ]
    },
    {
     "name": "stdout",
     "output_type": "stream",
     "text": [
      "You have 1 cookies 2 cookies that's a delicious total of 3 cookies\n"
     ]
    }
   ],
   "source": [
    "x = int(input(\"enter number\"))\n",
    "y = int(input(\"enter number\"))\n",
    "result = x+y\n",
    "print(\"You have\", x, \"cookies\",  y, \"cookies\", \"that's a delicious total of\" ,result, \"cookies\") "
   ]
  },
  {
   "cell_type": "code",
   "execution_count": 8,
   "id": "97eaa487-ddb3-4cf8-b948-6d645a4946c0",
   "metadata": {},
   "outputs": [
    {
     "name": "stdin",
     "output_type": "stream",
     "text": [
      "Please enter your name AJ\n"
     ]
    },
    {
     "name": "stdout",
     "output_type": "stream",
     "text": [
      "Happy birthday to AJ,happy birthday to you!May your day be filled with laughter and cake,too!\n"
     ]
    }
   ],
   "source": [
    "name = input(\"Please enter your name\")\n",
    "print (\"Happy birthday to \" + name + \",happy birthday to you!May your day be filled with laughter and cake,too!\") "
   ]
  },
  {
   "cell_type": "code",
   "execution_count": 11,
   "id": "1e65d176-bc93-4ab3-900f-d8a1429158cf",
   "metadata": {},
   "outputs": [
    {
     "name": "stdin",
     "output_type": "stream",
     "text": [
      "enter temperature in Celsius 20\n"
     ]
    },
    {
     "name": "stdout",
     "output_type": "stream",
     "text": [
      "68.0 F\n"
     ]
    }
   ],
   "source": [
    "cel = int(input(\"enter temperature in Celsius\"))\n",
    "x = 1.8\n",
    "y = 32\n",
    "f = (cel * 1.8) + 32\n",
    "print (f,\"F\")"
   ]
  },
  {
   "cell_type": "code",
   "execution_count": 13,
   "id": "db0b392c-2f02-40be-a3b7-a889ec0b8325",
   "metadata": {},
   "outputs": [
    {
     "name": "stdin",
     "output_type": "stream",
     "text": [
      "Please enter your name WE\n",
      "Please enter your age 12\n"
     ]
    },
    {
     "name": "stdout",
     "output_type": "stream",
     "text": [
      "HelloWE,welcome! You seem like a fantastic person at 12 years old\n"
     ]
    }
   ],
   "source": [
    "name = input(\"Please enter your name\")\n",
    "age = int(input(\"Please enter your age\"))\n",
    "print (\"Hello\" + name + \",welcome! You seem like a fantastic person at\" ,age , \"years old\")"
   ]
  },
  {
   "cell_type": "code",
   "execution_count": 15,
   "id": "2fa65709-c7ec-4578-87ee-993126686878",
   "metadata": {},
   "outputs": [
    {
     "name": "stdin",
     "output_type": "stream",
     "text": [
      "the price without tax 2\n"
     ]
    },
    {
     "name": "stdout",
     "output_type": "stream",
     "text": [
      "Price before the tax is 2\n",
      "new price 2.14\n"
     ]
    }
   ],
   "source": [
    "price = int(input(\"the price without tax\"))\n",
    "print(\"Price before the tax is\",price)\n",
    "tax = 0.07\n",
    "new_price = (price * tax)+price\n",
    "print (\"new price\" , new_price)"
   ]
  },
  {
   "cell_type": "code",
   "execution_count": 22,
   "id": "d08dd453-f2d4-41d4-9814-4fde53d22aaa",
   "metadata": {},
   "outputs": [
    {
     "name": "stdin",
     "output_type": "stream",
     "text": [
      "Enter first ingredient hh\n",
      "Enter second ingredient hh\n"
     ]
    },
    {
     "name": "stdout",
     "output_type": "stream",
     "text": [
      "Mixing hh juice and hh create the Fizzy Frenzy Potion!\n"
     ]
    }
   ],
   "source": [
    "fingredients = input (\"Enter first ingredient\")\n",
    "singredients = input (\"Enter second ingredient\")\n",
    "print (\"Mixing \" + fingredients + \" juice and \"+ singredients + \" create the Fizzy Frenzy Potion!\") "
   ]
  },
  {
   "cell_type": "code",
   "execution_count": null,
   "id": "69150786-13ed-420b-a201-6c34a125548d",
   "metadata": {},
   "outputs": [],
   "source": []
  }
 ],
 "metadata": {
  "kernelspec": {
   "display_name": "Python 3 (ipykernel)",
   "language": "python",
   "name": "python3"
  },
  "language_info": {
   "codemirror_mode": {
    "name": "ipython",
    "version": 3
   },
   "file_extension": ".py",
   "mimetype": "text/x-python",
   "name": "python",
   "nbconvert_exporter": "python",
   "pygments_lexer": "ipython3",
   "version": "3.10.9"
  }
 },
 "nbformat": 4,
 "nbformat_minor": 5
}
